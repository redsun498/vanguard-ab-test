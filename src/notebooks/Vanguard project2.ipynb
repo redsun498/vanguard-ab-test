{
 "cells": [
  {
   "cell_type": "code",
   "execution_count": 1,
   "id": "bf366f76",
   "metadata": {},
   "outputs": [],
   "source": [
    "import pandas as pd\n",
    "import seaborn as sns\n",
    "import matplotlib.pyplot as mp\n",
    "import numpy as np"
   ]
  },
  {
   "cell_type": "code",
   "execution_count": 2,
   "id": "41c46389",
   "metadata": {},
   "outputs": [],
   "source": [
    "#relative_path = \"data_files\\\\df_final_demo.txt\"\n",
    "\n",
    "df_demo = pd.read_csv(r\"..\\..\\data_files\\raw\\df_final_demo.txt\")\n",
    "df_exp = pd.read_csv(r\"..\\..\\data_files\\raw\\df_final_experiment_clients.txt\")\n",
    "df_web_1 = pd.read_csv(r\"..\\..\\data_files\\raw\\df_final_web_data_pt_1.txt\")\n",
    "df_web_2 = pd.read_csv(r\"..\\..\\data_files\\raw\\df_final_web_data_pt_2.txt\")"
   ]
  },
  {
   "cell_type": "code",
   "execution_count": 3,
   "id": "35d04cf1",
   "metadata": {},
   "outputs": [
    {
     "data": {
      "text/html": [
       "<div>\n",
       "<style scoped>\n",
       "    .dataframe tbody tr th:only-of-type {\n",
       "        vertical-align: middle;\n",
       "    }\n",
       "\n",
       "    .dataframe tbody tr th {\n",
       "        vertical-align: top;\n",
       "    }\n",
       "\n",
       "    .dataframe thead th {\n",
       "        text-align: right;\n",
       "    }\n",
       "</style>\n",
       "<table border=\"1\" class=\"dataframe\">\n",
       "  <thead>\n",
       "    <tr style=\"text-align: right;\">\n",
       "      <th></th>\n",
       "      <th>client_id</th>\n",
       "      <th>clnt_tenure_yr</th>\n",
       "      <th>clnt_tenure_mnth</th>\n",
       "      <th>clnt_age</th>\n",
       "      <th>gendr</th>\n",
       "      <th>num_accts</th>\n",
       "      <th>bal</th>\n",
       "      <th>calls_6_mnth</th>\n",
       "      <th>logons_6_mnth</th>\n",
       "    </tr>\n",
       "  </thead>\n",
       "  <tbody>\n",
       "    <tr>\n",
       "      <th>0</th>\n",
       "      <td>836976</td>\n",
       "      <td>6.0</td>\n",
       "      <td>73.0</td>\n",
       "      <td>60.5</td>\n",
       "      <td>U</td>\n",
       "      <td>2.0</td>\n",
       "      <td>45105.30</td>\n",
       "      <td>6.0</td>\n",
       "      <td>9.0</td>\n",
       "    </tr>\n",
       "    <tr>\n",
       "      <th>1</th>\n",
       "      <td>2304905</td>\n",
       "      <td>7.0</td>\n",
       "      <td>94.0</td>\n",
       "      <td>58.0</td>\n",
       "      <td>U</td>\n",
       "      <td>2.0</td>\n",
       "      <td>110860.30</td>\n",
       "      <td>6.0</td>\n",
       "      <td>9.0</td>\n",
       "    </tr>\n",
       "    <tr>\n",
       "      <th>2</th>\n",
       "      <td>1439522</td>\n",
       "      <td>5.0</td>\n",
       "      <td>64.0</td>\n",
       "      <td>32.0</td>\n",
       "      <td>U</td>\n",
       "      <td>2.0</td>\n",
       "      <td>52467.79</td>\n",
       "      <td>6.0</td>\n",
       "      <td>9.0</td>\n",
       "    </tr>\n",
       "    <tr>\n",
       "      <th>3</th>\n",
       "      <td>1562045</td>\n",
       "      <td>16.0</td>\n",
       "      <td>198.0</td>\n",
       "      <td>49.0</td>\n",
       "      <td>M</td>\n",
       "      <td>2.0</td>\n",
       "      <td>67454.65</td>\n",
       "      <td>3.0</td>\n",
       "      <td>6.0</td>\n",
       "    </tr>\n",
       "    <tr>\n",
       "      <th>4</th>\n",
       "      <td>5126305</td>\n",
       "      <td>12.0</td>\n",
       "      <td>145.0</td>\n",
       "      <td>33.0</td>\n",
       "      <td>F</td>\n",
       "      <td>2.0</td>\n",
       "      <td>103671.75</td>\n",
       "      <td>0.0</td>\n",
       "      <td>3.0</td>\n",
       "    </tr>\n",
       "  </tbody>\n",
       "</table>\n",
       "</div>"
      ],
      "text/plain": [
       "   client_id  clnt_tenure_yr  clnt_tenure_mnth  clnt_age gendr  num_accts  \\\n",
       "0     836976             6.0              73.0      60.5     U        2.0   \n",
       "1    2304905             7.0              94.0      58.0     U        2.0   \n",
       "2    1439522             5.0              64.0      32.0     U        2.0   \n",
       "3    1562045            16.0             198.0      49.0     M        2.0   \n",
       "4    5126305            12.0             145.0      33.0     F        2.0   \n",
       "\n",
       "         bal  calls_6_mnth  logons_6_mnth  \n",
       "0   45105.30           6.0            9.0  \n",
       "1  110860.30           6.0            9.0  \n",
       "2   52467.79           6.0            9.0  \n",
       "3   67454.65           3.0            6.0  \n",
       "4  103671.75           0.0            3.0  "
      ]
     },
     "execution_count": 3,
     "metadata": {},
     "output_type": "execute_result"
    }
   ],
   "source": [
    "df_demo.head()"
   ]
  },
  {
   "cell_type": "code",
   "execution_count": 4,
   "id": "011cd374",
   "metadata": {},
   "outputs": [
    {
     "data": {
      "text/plain": [
       "0"
      ]
     },
     "execution_count": 4,
     "metadata": {},
     "output_type": "execute_result"
    }
   ],
   "source": [
    "df_demo.duplicated().sum() # no dups"
   ]
  },
  {
   "cell_type": "code",
   "execution_count": 5,
   "id": "edcf1c16",
   "metadata": {},
   "outputs": [
    {
     "name": "stdout",
     "output_type": "stream",
     "text": [
      "<class 'pandas.core.frame.DataFrame'>\n",
      "RangeIndex: 70609 entries, 0 to 70608\n",
      "Data columns (total 9 columns):\n",
      " #   Column            Non-Null Count  Dtype  \n",
      "---  ------            --------------  -----  \n",
      " 0   client_id         70609 non-null  int64  \n",
      " 1   clnt_tenure_yr    70595 non-null  float64\n",
      " 2   clnt_tenure_mnth  70595 non-null  float64\n",
      " 3   clnt_age          70594 non-null  float64\n",
      " 4   gendr             70595 non-null  object \n",
      " 5   num_accts         70595 non-null  float64\n",
      " 6   bal               70595 non-null  float64\n",
      " 7   calls_6_mnth      70595 non-null  float64\n",
      " 8   logons_6_mnth     70595 non-null  float64\n",
      "dtypes: float64(7), int64(1), object(1)\n",
      "memory usage: 4.8+ MB\n"
     ]
    }
   ],
   "source": [
    "df_demo.info()"
   ]
  },
  {
   "cell_type": "code",
   "execution_count": 6,
   "id": "360e6c41",
   "metadata": {},
   "outputs": [
    {
     "data": {
      "text/html": [
       "<div>\n",
       "<style scoped>\n",
       "    .dataframe tbody tr th:only-of-type {\n",
       "        vertical-align: middle;\n",
       "    }\n",
       "\n",
       "    .dataframe tbody tr th {\n",
       "        vertical-align: top;\n",
       "    }\n",
       "\n",
       "    .dataframe thead th {\n",
       "        text-align: right;\n",
       "    }\n",
       "</style>\n",
       "<table border=\"1\" class=\"dataframe\">\n",
       "  <thead>\n",
       "    <tr style=\"text-align: right;\">\n",
       "      <th></th>\n",
       "      <th>client_id</th>\n",
       "      <th>Variation</th>\n",
       "    </tr>\n",
       "  </thead>\n",
       "  <tbody>\n",
       "    <tr>\n",
       "      <th>0</th>\n",
       "      <td>9988021</td>\n",
       "      <td>Test</td>\n",
       "    </tr>\n",
       "    <tr>\n",
       "      <th>1</th>\n",
       "      <td>8320017</td>\n",
       "      <td>Test</td>\n",
       "    </tr>\n",
       "    <tr>\n",
       "      <th>2</th>\n",
       "      <td>4033851</td>\n",
       "      <td>Control</td>\n",
       "    </tr>\n",
       "    <tr>\n",
       "      <th>3</th>\n",
       "      <td>1982004</td>\n",
       "      <td>Test</td>\n",
       "    </tr>\n",
       "    <tr>\n",
       "      <th>4</th>\n",
       "      <td>9294070</td>\n",
       "      <td>Control</td>\n",
       "    </tr>\n",
       "    <tr>\n",
       "      <th>5</th>\n",
       "      <td>9466803</td>\n",
       "      <td>Test</td>\n",
       "    </tr>\n",
       "    <tr>\n",
       "      <th>6</th>\n",
       "      <td>3170143</td>\n",
       "      <td>Test</td>\n",
       "    </tr>\n",
       "    <tr>\n",
       "      <th>7</th>\n",
       "      <td>6651403</td>\n",
       "      <td>Control</td>\n",
       "    </tr>\n",
       "    <tr>\n",
       "      <th>8</th>\n",
       "      <td>5887227</td>\n",
       "      <td>Test</td>\n",
       "    </tr>\n",
       "    <tr>\n",
       "      <th>9</th>\n",
       "      <td>2105948</td>\n",
       "      <td>Control</td>\n",
       "    </tr>\n",
       "  </tbody>\n",
       "</table>\n",
       "</div>"
      ],
      "text/plain": [
       "   client_id Variation\n",
       "0    9988021      Test\n",
       "1    8320017      Test\n",
       "2    4033851   Control\n",
       "3    1982004      Test\n",
       "4    9294070   Control\n",
       "5    9466803      Test\n",
       "6    3170143      Test\n",
       "7    6651403   Control\n",
       "8    5887227      Test\n",
       "9    2105948   Control"
      ]
     },
     "execution_count": 6,
     "metadata": {},
     "output_type": "execute_result"
    }
   ],
   "source": [
    "df_exp.head(10)"
   ]
  },
  {
   "cell_type": "code",
   "execution_count": 7,
   "id": "935181a6",
   "metadata": {},
   "outputs": [
    {
     "data": {
      "text/html": [
       "<div>\n",
       "<style scoped>\n",
       "    .dataframe tbody tr th:only-of-type {\n",
       "        vertical-align: middle;\n",
       "    }\n",
       "\n",
       "    .dataframe tbody tr th {\n",
       "        vertical-align: top;\n",
       "    }\n",
       "\n",
       "    .dataframe thead th {\n",
       "        text-align: right;\n",
       "    }\n",
       "</style>\n",
       "<table border=\"1\" class=\"dataframe\">\n",
       "  <thead>\n",
       "    <tr style=\"text-align: right;\">\n",
       "      <th></th>\n",
       "      <th>client_id</th>\n",
       "      <th>visitor_id</th>\n",
       "      <th>visit_id</th>\n",
       "      <th>process_step</th>\n",
       "      <th>date_time</th>\n",
       "    </tr>\n",
       "  </thead>\n",
       "  <tbody>\n",
       "    <tr>\n",
       "      <th>0</th>\n",
       "      <td>9988021</td>\n",
       "      <td>580560515_7732621733</td>\n",
       "      <td>781255054_21935453173_531117</td>\n",
       "      <td>step_3</td>\n",
       "      <td>2017-04-17 15:27:07</td>\n",
       "    </tr>\n",
       "    <tr>\n",
       "      <th>1</th>\n",
       "      <td>9988021</td>\n",
       "      <td>580560515_7732621733</td>\n",
       "      <td>781255054_21935453173_531117</td>\n",
       "      <td>step_2</td>\n",
       "      <td>2017-04-17 15:26:51</td>\n",
       "    </tr>\n",
       "    <tr>\n",
       "      <th>2</th>\n",
       "      <td>9988021</td>\n",
       "      <td>580560515_7732621733</td>\n",
       "      <td>781255054_21935453173_531117</td>\n",
       "      <td>step_3</td>\n",
       "      <td>2017-04-17 15:19:22</td>\n",
       "    </tr>\n",
       "    <tr>\n",
       "      <th>3</th>\n",
       "      <td>9988021</td>\n",
       "      <td>580560515_7732621733</td>\n",
       "      <td>781255054_21935453173_531117</td>\n",
       "      <td>step_2</td>\n",
       "      <td>2017-04-17 15:19:13</td>\n",
       "    </tr>\n",
       "    <tr>\n",
       "      <th>4</th>\n",
       "      <td>9988021</td>\n",
       "      <td>580560515_7732621733</td>\n",
       "      <td>781255054_21935453173_531117</td>\n",
       "      <td>step_3</td>\n",
       "      <td>2017-04-17 15:18:04</td>\n",
       "    </tr>\n",
       "    <tr>\n",
       "      <th>5</th>\n",
       "      <td>9988021</td>\n",
       "      <td>580560515_7732621733</td>\n",
       "      <td>781255054_21935453173_531117</td>\n",
       "      <td>step_2</td>\n",
       "      <td>2017-04-17 15:17:15</td>\n",
       "    </tr>\n",
       "    <tr>\n",
       "      <th>6</th>\n",
       "      <td>9988021</td>\n",
       "      <td>580560515_7732621733</td>\n",
       "      <td>781255054_21935453173_531117</td>\n",
       "      <td>step_1</td>\n",
       "      <td>2017-04-17 15:17:01</td>\n",
       "    </tr>\n",
       "    <tr>\n",
       "      <th>7</th>\n",
       "      <td>9988021</td>\n",
       "      <td>580560515_7732621733</td>\n",
       "      <td>781255054_21935453173_531117</td>\n",
       "      <td>start</td>\n",
       "      <td>2017-04-17 15:16:22</td>\n",
       "    </tr>\n",
       "    <tr>\n",
       "      <th>8</th>\n",
       "      <td>8320017</td>\n",
       "      <td>39393514_33118319366</td>\n",
       "      <td>960651974_70596002104_312201</td>\n",
       "      <td>confirm</td>\n",
       "      <td>2017-04-05 13:10:05</td>\n",
       "    </tr>\n",
       "    <tr>\n",
       "      <th>9</th>\n",
       "      <td>8320017</td>\n",
       "      <td>39393514_33118319366</td>\n",
       "      <td>960651974_70596002104_312201</td>\n",
       "      <td>step_3</td>\n",
       "      <td>2017-04-05 13:09:43</td>\n",
       "    </tr>\n",
       "  </tbody>\n",
       "</table>\n",
       "</div>"
      ],
      "text/plain": [
       "   client_id            visitor_id                      visit_id process_step  \\\n",
       "0    9988021  580560515_7732621733  781255054_21935453173_531117       step_3   \n",
       "1    9988021  580560515_7732621733  781255054_21935453173_531117       step_2   \n",
       "2    9988021  580560515_7732621733  781255054_21935453173_531117       step_3   \n",
       "3    9988021  580560515_7732621733  781255054_21935453173_531117       step_2   \n",
       "4    9988021  580560515_7732621733  781255054_21935453173_531117       step_3   \n",
       "5    9988021  580560515_7732621733  781255054_21935453173_531117       step_2   \n",
       "6    9988021  580560515_7732621733  781255054_21935453173_531117       step_1   \n",
       "7    9988021  580560515_7732621733  781255054_21935453173_531117        start   \n",
       "8    8320017  39393514_33118319366  960651974_70596002104_312201      confirm   \n",
       "9    8320017  39393514_33118319366  960651974_70596002104_312201       step_3   \n",
       "\n",
       "             date_time  \n",
       "0  2017-04-17 15:27:07  \n",
       "1  2017-04-17 15:26:51  \n",
       "2  2017-04-17 15:19:22  \n",
       "3  2017-04-17 15:19:13  \n",
       "4  2017-04-17 15:18:04  \n",
       "5  2017-04-17 15:17:15  \n",
       "6  2017-04-17 15:17:01  \n",
       "7  2017-04-17 15:16:22  \n",
       "8  2017-04-05 13:10:05  \n",
       "9  2017-04-05 13:09:43  "
      ]
     },
     "execution_count": 7,
     "metadata": {},
     "output_type": "execute_result"
    }
   ],
   "source": [
    "df_web_1.head(10)"
   ]
  },
  {
   "cell_type": "code",
   "execution_count": 8,
   "id": "300191ba",
   "metadata": {},
   "outputs": [
    {
     "data": {
      "text/html": [
       "<div>\n",
       "<style scoped>\n",
       "    .dataframe tbody tr th:only-of-type {\n",
       "        vertical-align: middle;\n",
       "    }\n",
       "\n",
       "    .dataframe tbody tr th {\n",
       "        vertical-align: top;\n",
       "    }\n",
       "\n",
       "    .dataframe thead th {\n",
       "        text-align: right;\n",
       "    }\n",
       "</style>\n",
       "<table border=\"1\" class=\"dataframe\">\n",
       "  <thead>\n",
       "    <tr style=\"text-align: right;\">\n",
       "      <th></th>\n",
       "      <th>client_id</th>\n",
       "      <th>visitor_id</th>\n",
       "      <th>visit_id</th>\n",
       "      <th>process_step</th>\n",
       "      <th>date_time</th>\n",
       "    </tr>\n",
       "  </thead>\n",
       "  <tbody>\n",
       "    <tr>\n",
       "      <th>0</th>\n",
       "      <td>763412</td>\n",
       "      <td>601952081_10457207388</td>\n",
       "      <td>397475557_40440946728_419634</td>\n",
       "      <td>confirm</td>\n",
       "      <td>2017-06-06 08:56:00</td>\n",
       "    </tr>\n",
       "    <tr>\n",
       "      <th>1</th>\n",
       "      <td>6019349</td>\n",
       "      <td>442094451_91531546617</td>\n",
       "      <td>154620534_35331068705_522317</td>\n",
       "      <td>confirm</td>\n",
       "      <td>2017-06-01 11:59:27</td>\n",
       "    </tr>\n",
       "    <tr>\n",
       "      <th>2</th>\n",
       "      <td>6019349</td>\n",
       "      <td>442094451_91531546617</td>\n",
       "      <td>154620534_35331068705_522317</td>\n",
       "      <td>step_3</td>\n",
       "      <td>2017-06-01 11:58:48</td>\n",
       "    </tr>\n",
       "    <tr>\n",
       "      <th>3</th>\n",
       "      <td>6019349</td>\n",
       "      <td>442094451_91531546617</td>\n",
       "      <td>154620534_35331068705_522317</td>\n",
       "      <td>step_2</td>\n",
       "      <td>2017-06-01 11:58:08</td>\n",
       "    </tr>\n",
       "    <tr>\n",
       "      <th>4</th>\n",
       "      <td>6019349</td>\n",
       "      <td>442094451_91531546617</td>\n",
       "      <td>154620534_35331068705_522317</td>\n",
       "      <td>step_1</td>\n",
       "      <td>2017-06-01 11:57:58</td>\n",
       "    </tr>\n",
       "    <tr>\n",
       "      <th>5</th>\n",
       "      <td>6019349</td>\n",
       "      <td>442094451_91531546617</td>\n",
       "      <td>154620534_35331068705_522317</td>\n",
       "      <td>start</td>\n",
       "      <td>2017-06-01 11:57:54</td>\n",
       "    </tr>\n",
       "    <tr>\n",
       "      <th>6</th>\n",
       "      <td>4726500</td>\n",
       "      <td>934350987_45569789638</td>\n",
       "      <td>467318052_88159801968_565608</td>\n",
       "      <td>confirm</td>\n",
       "      <td>2017-06-05 17:38:52</td>\n",
       "    </tr>\n",
       "    <tr>\n",
       "      <th>7</th>\n",
       "      <td>4726500</td>\n",
       "      <td>934350987_45569789638</td>\n",
       "      <td>467318052_88159801968_565608</td>\n",
       "      <td>step_3</td>\n",
       "      <td>2017-06-05 17:38:33</td>\n",
       "    </tr>\n",
       "    <tr>\n",
       "      <th>8</th>\n",
       "      <td>4726500</td>\n",
       "      <td>934350987_45569789638</td>\n",
       "      <td>467318052_88159801968_565608</td>\n",
       "      <td>step_2</td>\n",
       "      <td>2017-06-05 17:37:31</td>\n",
       "    </tr>\n",
       "    <tr>\n",
       "      <th>9</th>\n",
       "      <td>4726500</td>\n",
       "      <td>934350987_45569789638</td>\n",
       "      <td>467318052_88159801968_565608</td>\n",
       "      <td>step_1</td>\n",
       "      <td>2017-06-05 17:37:24</td>\n",
       "    </tr>\n",
       "  </tbody>\n",
       "</table>\n",
       "</div>"
      ],
      "text/plain": [
       "   client_id             visitor_id                      visit_id  \\\n",
       "0     763412  601952081_10457207388  397475557_40440946728_419634   \n",
       "1    6019349  442094451_91531546617  154620534_35331068705_522317   \n",
       "2    6019349  442094451_91531546617  154620534_35331068705_522317   \n",
       "3    6019349  442094451_91531546617  154620534_35331068705_522317   \n",
       "4    6019349  442094451_91531546617  154620534_35331068705_522317   \n",
       "5    6019349  442094451_91531546617  154620534_35331068705_522317   \n",
       "6    4726500  934350987_45569789638  467318052_88159801968_565608   \n",
       "7    4726500  934350987_45569789638  467318052_88159801968_565608   \n",
       "8    4726500  934350987_45569789638  467318052_88159801968_565608   \n",
       "9    4726500  934350987_45569789638  467318052_88159801968_565608   \n",
       "\n",
       "  process_step            date_time  \n",
       "0      confirm  2017-06-06 08:56:00  \n",
       "1      confirm  2017-06-01 11:59:27  \n",
       "2       step_3  2017-06-01 11:58:48  \n",
       "3       step_2  2017-06-01 11:58:08  \n",
       "4       step_1  2017-06-01 11:57:58  \n",
       "5        start  2017-06-01 11:57:54  \n",
       "6      confirm  2017-06-05 17:38:52  \n",
       "7       step_3  2017-06-05 17:38:33  \n",
       "8       step_2  2017-06-05 17:37:31  \n",
       "9       step_1  2017-06-05 17:37:24  "
      ]
     },
     "execution_count": 8,
     "metadata": {},
     "output_type": "execute_result"
    }
   ],
   "source": [
    "df_web_2.head(10)"
   ]
  },
  {
   "cell_type": "code",
   "execution_count": 9,
   "id": "7319f7cc",
   "metadata": {},
   "outputs": [
    {
     "name": "stdout",
     "output_type": "stream",
     "text": [
      "<class 'pandas.core.frame.DataFrame'>\n",
      "RangeIndex: 343141 entries, 0 to 343140\n",
      "Data columns (total 5 columns):\n",
      " #   Column        Non-Null Count   Dtype \n",
      "---  ------        --------------   ----- \n",
      " 0   client_id     343141 non-null  int64 \n",
      " 1   visitor_id    343141 non-null  object\n",
      " 2   visit_id      343141 non-null  object\n",
      " 3   process_step  343141 non-null  object\n",
      " 4   date_time     343141 non-null  object\n",
      "dtypes: int64(1), object(4)\n",
      "memory usage: 13.1+ MB\n"
     ]
    }
   ],
   "source": [
    "df_web_1.info()"
   ]
  },
  {
   "cell_type": "code",
   "execution_count": 10,
   "id": "25988b58",
   "metadata": {},
   "outputs": [
    {
     "name": "stdout",
     "output_type": "stream",
     "text": [
      "<class 'pandas.core.frame.DataFrame'>\n",
      "RangeIndex: 412264 entries, 0 to 412263\n",
      "Data columns (total 5 columns):\n",
      " #   Column        Non-Null Count   Dtype \n",
      "---  ------        --------------   ----- \n",
      " 0   client_id     412264 non-null  int64 \n",
      " 1   visitor_id    412264 non-null  object\n",
      " 2   visit_id      412264 non-null  object\n",
      " 3   process_step  412264 non-null  object\n",
      " 4   date_time     412264 non-null  object\n",
      "dtypes: int64(1), object(4)\n",
      "memory usage: 15.7+ MB\n"
     ]
    }
   ],
   "source": [
    "df_web_2.info() # same as df_web_2"
   ]
  },
  {
   "cell_type": "code",
   "execution_count": 11,
   "id": "c89ab612",
   "metadata": {},
   "outputs": [
    {
     "data": {
      "text/plain": [
       "True"
      ]
     },
     "execution_count": 11,
     "metadata": {},
     "output_type": "execute_result"
    }
   ],
   "source": [
    "df_web = pd.concat([df_web_1,df_web_2])\n",
    "df_web.shape[0] == df_web_1.shape[0] + df_web_2.shape[0] # concatenated all rows"
   ]
  },
  {
   "cell_type": "code",
   "execution_count": 12,
   "id": "d75950f7",
   "metadata": {},
   "outputs": [
    {
     "data": {
      "text/plain": [
       "Index(['client_id', 'visitor_id', 'visit_id', 'process_step', 'date_time'], dtype='object')"
      ]
     },
     "execution_count": 12,
     "metadata": {},
     "output_type": "execute_result"
    }
   ],
   "source": [
    "df_web.columns# client_id appears multiple times"
   ]
  },
  {
   "cell_type": "code",
   "execution_count": 13,
   "id": "4317a34f",
   "metadata": {},
   "outputs": [
    {
     "data": {
      "text/plain": [
       "Index(['client_id', 'clnt_tenure_yr', 'clnt_tenure_mnth', 'clnt_age', 'gendr',\n",
       "       'num_accts', 'bal', 'calls_6_mnth', 'logons_6_mnth'],\n",
       "      dtype='object')"
      ]
     },
     "execution_count": 13,
     "metadata": {},
     "output_type": "execute_result"
    }
   ],
   "source": [
    "df_demo.columns"
   ]
  },
  {
   "cell_type": "code",
   "execution_count": 14,
   "id": "a7c5a4d7",
   "metadata": {},
   "outputs": [
    {
     "data": {
      "text/plain": [
       "0         6.0\n",
       "1         7.0\n",
       "2         5.0\n",
       "3        16.0\n",
       "4        12.0\n",
       "         ... \n",
       "70604     4.0\n",
       "70605    12.0\n",
       "70606    16.0\n",
       "70607    21.0\n",
       "70608    21.0\n",
       "Name: clnt_tenure_yr, Length: 70609, dtype: float64"
      ]
     },
     "execution_count": 14,
     "metadata": {},
     "output_type": "execute_result"
    }
   ],
   "source": [
    "df_demo[ 'clnt_tenure_yr']"
   ]
  },
  {
   "cell_type": "code",
   "execution_count": 15,
   "id": "68d38b29",
   "metadata": {},
   "outputs": [
    {
     "data": {
      "text/plain": [
       "Index(['client_id', 'Variation'], dtype='object')"
      ]
     },
     "execution_count": 15,
     "metadata": {},
     "output_type": "execute_result"
    }
   ],
   "source": [
    "df_exp.columns"
   ]
  },
  {
   "cell_type": "code",
   "execution_count": 16,
   "id": "0786ae60",
   "metadata": {},
   "outputs": [
    {
     "data": {
      "text/plain": [
       "Index(['client_id', 'visitor_id', 'visit_id', 'process_step', 'date_time'], dtype='object')"
      ]
     },
     "execution_count": 16,
     "metadata": {},
     "output_type": "execute_result"
    }
   ],
   "source": [
    "df_web.columns"
   ]
  },
  {
   "cell_type": "markdown",
   "id": "47291480",
   "metadata": {},
   "source": [
    "# Answer the following questions about demographics:\n",
    "## Who are the primary clients using this online process?\n",
    "## Are the primary clients younger or older, new or long-standing?"
   ]
  },
  {
   "cell_type": "code",
   "execution_count": 17,
   "id": "28078be2",
   "metadata": {},
   "outputs": [
    {
     "name": "stdout",
     "output_type": "stream",
     "text": [
      "Demographic Analysis:\n",
      "Mean Age: 47.12374972103309, Median Age: 48.5\n",
      "Gender Distribution:\n",
      "gendr\n",
      "M    17694\n",
      "U    16597\n",
      "F    14997\n",
      "X        2\n",
      "Name: count, dtype: int64\n",
      "\n",
      "Tenure Analysis:\n",
      "       clnt_tenure_yr  clnt_tenure_mnth\n",
      "count    49290.000000      49290.000000\n",
      "mean        12.276588        153.219619\n",
      "std          7.064997         84.445685\n",
      "min          2.000000         33.000000\n",
      "25%          6.000000         82.000000\n",
      "50%         11.000000        138.000000\n",
      "75%         16.000000        196.000000\n",
      "max         62.000000        749.000000\n"
     ]
    }
   ],
   "source": [
    "# Identify primary clients based on logons or calls threshold\n",
    "threshold_logons = 5  # Adjust threshold as needed\n",
    "threshold_calls = 3  \n",
    "primary_clients = df_demo[(df_demo['logons_6_mnth'] >= threshold_logons) | (df_demo['calls_6_mnth'] >= threshold_calls)]\n",
    "\n",
    "# Demographic analysis\n",
    "age_stats = primary_clients['clnt_age'].describe()\n",
    "gender_distribution = primary_clients['gendr'].value_counts()\n",
    "\n",
    "# Tenure analysis\n",
    "tenure_stats = primary_clients[['clnt_tenure_yr', 'clnt_tenure_mnth']].describe()\n",
    "\n",
    "# Output the results\n",
    "print(\"Demographic Analysis:\")\n",
    "print(f\"Mean Age: {age_stats['mean']}, Median Age: {age_stats['50%']}\")\n",
    "print(f\"Gender Distribution:\\n{gender_distribution}\")\n",
    "\n",
    "print(\"\\nTenure Analysis:\")\n",
    "print(tenure_stats)"
   ]
  },
  {
   "cell_type": "code",
   "execution_count": 18,
   "id": "d092a5fb",
   "metadata": {},
   "outputs": [],
   "source": [
    "df_online = pd.merge(df_demo,df_exp,how='left',on='client_id') # Here we merge the tables for the clients and the participants of the experiment "
   ]
  },
  {
   "cell_type": "code",
   "execution_count": 19,
   "id": "a5c894d7",
   "metadata": {},
   "outputs": [],
   "source": [
    "df_online.dropna(inplace=True) # Here we drop the client whom did not particapate in the experiment for a better analysis"
   ]
  },
  {
   "cell_type": "code",
   "execution_count": 20,
   "id": "c6fd8006",
   "metadata": {},
   "outputs": [
    {
     "data": {
      "text/plain": [
       "client_id           0\n",
       "clnt_tenure_yr      0\n",
       "clnt_tenure_mnth    0\n",
       "clnt_age            0\n",
       "gendr               0\n",
       "num_accts           0\n",
       "bal                 0\n",
       "calls_6_mnth        0\n",
       "logons_6_mnth       0\n",
       "Variation           0\n",
       "dtype: int64"
      ]
     },
     "execution_count": 20,
     "metadata": {},
     "output_type": "execute_result"
    }
   ],
   "source": [
    "df_online.isnull().sum()"
   ]
  },
  {
   "cell_type": "code",
   "execution_count": 21,
   "id": "f7f2e93f",
   "metadata": {},
   "outputs": [
    {
     "data": {
      "text/html": [
       "<div>\n",
       "<style scoped>\n",
       "    .dataframe tbody tr th:only-of-type {\n",
       "        vertical-align: middle;\n",
       "    }\n",
       "\n",
       "    .dataframe tbody tr th {\n",
       "        vertical-align: top;\n",
       "    }\n",
       "\n",
       "    .dataframe thead th {\n",
       "        text-align: right;\n",
       "    }\n",
       "</style>\n",
       "<table border=\"1\" class=\"dataframe\">\n",
       "  <thead>\n",
       "    <tr style=\"text-align: right;\">\n",
       "      <th></th>\n",
       "      <th>client_id</th>\n",
       "      <th>clnt_tenure_yr</th>\n",
       "      <th>clnt_tenure_mnth</th>\n",
       "      <th>clnt_age</th>\n",
       "      <th>gendr</th>\n",
       "      <th>num_accts</th>\n",
       "      <th>bal</th>\n",
       "      <th>calls_6_mnth</th>\n",
       "      <th>logons_6_mnth</th>\n",
       "      <th>Variation</th>\n",
       "    </tr>\n",
       "  </thead>\n",
       "  <tbody>\n",
       "    <tr>\n",
       "      <th>0</th>\n",
       "      <td>836976</td>\n",
       "      <td>6.0</td>\n",
       "      <td>73.0</td>\n",
       "      <td>60.5</td>\n",
       "      <td>U</td>\n",
       "      <td>2.0</td>\n",
       "      <td>45105.30</td>\n",
       "      <td>6.0</td>\n",
       "      <td>9.0</td>\n",
       "      <td>Test</td>\n",
       "    </tr>\n",
       "    <tr>\n",
       "      <th>1</th>\n",
       "      <td>2304905</td>\n",
       "      <td>7.0</td>\n",
       "      <td>94.0</td>\n",
       "      <td>58.0</td>\n",
       "      <td>U</td>\n",
       "      <td>2.0</td>\n",
       "      <td>110860.30</td>\n",
       "      <td>6.0</td>\n",
       "      <td>9.0</td>\n",
       "      <td>Control</td>\n",
       "    </tr>\n",
       "    <tr>\n",
       "      <th>2</th>\n",
       "      <td>1439522</td>\n",
       "      <td>5.0</td>\n",
       "      <td>64.0</td>\n",
       "      <td>32.0</td>\n",
       "      <td>U</td>\n",
       "      <td>2.0</td>\n",
       "      <td>52467.79</td>\n",
       "      <td>6.0</td>\n",
       "      <td>9.0</td>\n",
       "      <td>Test</td>\n",
       "    </tr>\n",
       "    <tr>\n",
       "      <th>3</th>\n",
       "      <td>1562045</td>\n",
       "      <td>16.0</td>\n",
       "      <td>198.0</td>\n",
       "      <td>49.0</td>\n",
       "      <td>M</td>\n",
       "      <td>2.0</td>\n",
       "      <td>67454.65</td>\n",
       "      <td>3.0</td>\n",
       "      <td>6.0</td>\n",
       "      <td>Test</td>\n",
       "    </tr>\n",
       "    <tr>\n",
       "      <th>4</th>\n",
       "      <td>5126305</td>\n",
       "      <td>12.0</td>\n",
       "      <td>145.0</td>\n",
       "      <td>33.0</td>\n",
       "      <td>F</td>\n",
       "      <td>2.0</td>\n",
       "      <td>103671.75</td>\n",
       "      <td>0.0</td>\n",
       "      <td>3.0</td>\n",
       "      <td>Control</td>\n",
       "    </tr>\n",
       "  </tbody>\n",
       "</table>\n",
       "</div>"
      ],
      "text/plain": [
       "   client_id  clnt_tenure_yr  clnt_tenure_mnth  clnt_age gendr  num_accts  \\\n",
       "0     836976             6.0              73.0      60.5     U        2.0   \n",
       "1    2304905             7.0              94.0      58.0     U        2.0   \n",
       "2    1439522             5.0              64.0      32.0     U        2.0   \n",
       "3    1562045            16.0             198.0      49.0     M        2.0   \n",
       "4    5126305            12.0             145.0      33.0     F        2.0   \n",
       "\n",
       "         bal  calls_6_mnth  logons_6_mnth Variation  \n",
       "0   45105.30           6.0            9.0      Test  \n",
       "1  110860.30           6.0            9.0   Control  \n",
       "2   52467.79           6.0            9.0      Test  \n",
       "3   67454.65           3.0            6.0      Test  \n",
       "4  103671.75           0.0            3.0   Control  "
      ]
     },
     "execution_count": 21,
     "metadata": {},
     "output_type": "execute_result"
    }
   ],
   "source": [
    "df_online.head()"
   ]
  },
  {
   "cell_type": "code",
   "execution_count": 22,
   "id": "ff2f8f00",
   "metadata": {},
   "outputs": [
    {
     "data": {
      "text/html": [
       "<div>\n",
       "<style scoped>\n",
       "    .dataframe tbody tr th:only-of-type {\n",
       "        vertical-align: middle;\n",
       "    }\n",
       "\n",
       "    .dataframe tbody tr th {\n",
       "        vertical-align: top;\n",
       "    }\n",
       "\n",
       "    .dataframe thead th {\n",
       "        text-align: right;\n",
       "    }\n",
       "</style>\n",
       "<table border=\"1\" class=\"dataframe\">\n",
       "  <thead>\n",
       "    <tr style=\"text-align: right;\">\n",
       "      <th></th>\n",
       "      <th>gendr</th>\n",
       "      <th>Variation</th>\n",
       "    </tr>\n",
       "  </thead>\n",
       "  <tbody>\n",
       "    <tr>\n",
       "      <th>count</th>\n",
       "      <td>50487</td>\n",
       "      <td>50487</td>\n",
       "    </tr>\n",
       "    <tr>\n",
       "      <th>unique</th>\n",
       "      <td>4</td>\n",
       "      <td>2</td>\n",
       "    </tr>\n",
       "    <tr>\n",
       "      <th>top</th>\n",
       "      <td>U</td>\n",
       "      <td>Test</td>\n",
       "    </tr>\n",
       "    <tr>\n",
       "      <th>freq</th>\n",
       "      <td>17280</td>\n",
       "      <td>26961</td>\n",
       "    </tr>\n",
       "  </tbody>\n",
       "</table>\n",
       "</div>"
      ],
      "text/plain": [
       "        gendr Variation\n",
       "count   50487     50487\n",
       "unique      4         2\n",
       "top         U      Test\n",
       "freq    17280     26961"
      ]
     },
     "execution_count": 22,
     "metadata": {},
     "output_type": "execute_result"
    }
   ],
   "source": [
    "df_online.describe(include=\"object\") # categorical variables"
   ]
  },
  {
   "cell_type": "code",
   "execution_count": 23,
   "id": "8825ae74",
   "metadata": {},
   "outputs": [
    {
     "data": {
      "text/plain": [
       "Variation\n",
       "Test       26961\n",
       "Control    23526\n",
       "Name: count, dtype: int64"
      ]
     },
     "execution_count": 23,
     "metadata": {},
     "output_type": "execute_result"
    }
   ],
   "source": [
    "df_online['Variation'].value_counts() "
   ]
  },
  {
   "cell_type": "code",
   "execution_count": 24,
   "id": "962f0d39",
   "metadata": {},
   "outputs": [
    {
     "data": {
      "text/html": [
       "<div>\n",
       "<style scoped>\n",
       "    .dataframe tbody tr th:only-of-type {\n",
       "        vertical-align: middle;\n",
       "    }\n",
       "\n",
       "    .dataframe tbody tr th {\n",
       "        vertical-align: top;\n",
       "    }\n",
       "\n",
       "    .dataframe thead th {\n",
       "        text-align: right;\n",
       "    }\n",
       "</style>\n",
       "<table border=\"1\" class=\"dataframe\">\n",
       "  <thead>\n",
       "    <tr style=\"text-align: right;\">\n",
       "      <th></th>\n",
       "      <th>client_id</th>\n",
       "      <th>clnt_tenure_yr</th>\n",
       "      <th>clnt_tenure_mnth</th>\n",
       "      <th>clnt_age</th>\n",
       "      <th>num_accts</th>\n",
       "      <th>bal</th>\n",
       "      <th>calls_6_mnth</th>\n",
       "      <th>logons_6_mnth</th>\n",
       "    </tr>\n",
       "  </thead>\n",
       "  <tbody>\n",
       "    <tr>\n",
       "      <th>count</th>\n",
       "      <td>5.048700e+04</td>\n",
       "      <td>50487.000000</td>\n",
       "      <td>50487.000000</td>\n",
       "      <td>50487.000000</td>\n",
       "      <td>50487.000000</td>\n",
       "      <td>5.048700e+04</td>\n",
       "      <td>50487.000000</td>\n",
       "      <td>50487.000000</td>\n",
       "    </tr>\n",
       "    <tr>\n",
       "      <th>mean</th>\n",
       "      <td>5.006180e+06</td>\n",
       "      <td>12.031810</td>\n",
       "      <td>150.416365</td>\n",
       "      <td>47.319795</td>\n",
       "      <td>2.254580</td>\n",
       "      <td>1.495168e+05</td>\n",
       "      <td>3.093272</td>\n",
       "      <td>6.131856</td>\n",
       "    </tr>\n",
       "    <tr>\n",
       "      <th>std</th>\n",
       "      <td>2.877445e+06</td>\n",
       "      <td>6.860326</td>\n",
       "      <td>81.945403</td>\n",
       "      <td>15.518616</td>\n",
       "      <td>0.533675</td>\n",
       "      <td>3.020390e+05</td>\n",
       "      <td>2.188009</td>\n",
       "      <td>2.175441</td>\n",
       "    </tr>\n",
       "    <tr>\n",
       "      <th>min</th>\n",
       "      <td>5.550000e+02</td>\n",
       "      <td>2.000000</td>\n",
       "      <td>33.000000</td>\n",
       "      <td>17.000000</td>\n",
       "      <td>1.000000</td>\n",
       "      <td>2.378944e+04</td>\n",
       "      <td>0.000000</td>\n",
       "      <td>3.000000</td>\n",
       "    </tr>\n",
       "    <tr>\n",
       "      <th>25%</th>\n",
       "      <td>2.515688e+06</td>\n",
       "      <td>6.000000</td>\n",
       "      <td>82.000000</td>\n",
       "      <td>33.500000</td>\n",
       "      <td>2.000000</td>\n",
       "      <td>3.987718e+04</td>\n",
       "      <td>1.000000</td>\n",
       "      <td>4.000000</td>\n",
       "    </tr>\n",
       "    <tr>\n",
       "      <th>50%</th>\n",
       "      <td>5.025043e+06</td>\n",
       "      <td>11.000000</td>\n",
       "      <td>136.000000</td>\n",
       "      <td>48.000000</td>\n",
       "      <td>2.000000</td>\n",
       "      <td>6.573433e+04</td>\n",
       "      <td>3.000000</td>\n",
       "      <td>6.000000</td>\n",
       "    </tr>\n",
       "    <tr>\n",
       "      <th>75%</th>\n",
       "      <td>7.477922e+06</td>\n",
       "      <td>16.000000</td>\n",
       "      <td>192.000000</td>\n",
       "      <td>59.500000</td>\n",
       "      <td>2.000000</td>\n",
       "      <td>1.399583e+05</td>\n",
       "      <td>5.000000</td>\n",
       "      <td>8.000000</td>\n",
       "    </tr>\n",
       "    <tr>\n",
       "      <th>max</th>\n",
       "      <td>9.999832e+06</td>\n",
       "      <td>55.000000</td>\n",
       "      <td>669.000000</td>\n",
       "      <td>96.000000</td>\n",
       "      <td>7.000000</td>\n",
       "      <td>1.632004e+07</td>\n",
       "      <td>6.000000</td>\n",
       "      <td>9.000000</td>\n",
       "    </tr>\n",
       "  </tbody>\n",
       "</table>\n",
       "</div>"
      ],
      "text/plain": [
       "          client_id  clnt_tenure_yr  clnt_tenure_mnth      clnt_age  \\\n",
       "count  5.048700e+04    50487.000000      50487.000000  50487.000000   \n",
       "mean   5.006180e+06       12.031810        150.416365     47.319795   \n",
       "std    2.877445e+06        6.860326         81.945403     15.518616   \n",
       "min    5.550000e+02        2.000000         33.000000     17.000000   \n",
       "25%    2.515688e+06        6.000000         82.000000     33.500000   \n",
       "50%    5.025043e+06       11.000000        136.000000     48.000000   \n",
       "75%    7.477922e+06       16.000000        192.000000     59.500000   \n",
       "max    9.999832e+06       55.000000        669.000000     96.000000   \n",
       "\n",
       "          num_accts           bal  calls_6_mnth  logons_6_mnth  \n",
       "count  50487.000000  5.048700e+04  50487.000000   50487.000000  \n",
       "mean       2.254580  1.495168e+05      3.093272       6.131856  \n",
       "std        0.533675  3.020390e+05      2.188009       2.175441  \n",
       "min        1.000000  2.378944e+04      0.000000       3.000000  \n",
       "25%        2.000000  3.987718e+04      1.000000       4.000000  \n",
       "50%        2.000000  6.573433e+04      3.000000       6.000000  \n",
       "75%        2.000000  1.399583e+05      5.000000       8.000000  \n",
       "max        7.000000  1.632004e+07      6.000000       9.000000  "
      ]
     },
     "execution_count": 24,
     "metadata": {},
     "output_type": "execute_result"
    }
   ],
   "source": [
    "df_online.describe() "
   ]
  },
  {
   "cell_type": "code",
   "execution_count": 25,
   "id": "70b9fa3e",
   "metadata": {},
   "outputs": [],
   "source": [
    "df_ab = pd.merge(df_online,df_web)"
   ]
  },
  {
   "cell_type": "code",
   "execution_count": 45,
   "id": "7bf16ffb",
   "metadata": {},
   "outputs": [
    {
     "data": {
      "text/html": [
       "<div>\n",
       "<style scoped>\n",
       "    .dataframe tbody tr th:only-of-type {\n",
       "        vertical-align: middle;\n",
       "    }\n",
       "\n",
       "    .dataframe tbody tr th {\n",
       "        vertical-align: top;\n",
       "    }\n",
       "\n",
       "    .dataframe thead th {\n",
       "        text-align: right;\n",
       "    }\n",
       "</style>\n",
       "<table border=\"1\" class=\"dataframe\">\n",
       "  <thead>\n",
       "    <tr style=\"text-align: right;\">\n",
       "      <th></th>\n",
       "      <th>client_id</th>\n",
       "      <th>clnt_tenure_yr</th>\n",
       "      <th>clnt_tenure_mnth</th>\n",
       "      <th>clnt_age</th>\n",
       "      <th>gendr</th>\n",
       "      <th>num_accts</th>\n",
       "      <th>bal</th>\n",
       "      <th>calls_6_mnth</th>\n",
       "      <th>logons_6_mnth</th>\n",
       "      <th>Variation</th>\n",
       "      <th>visitor_id</th>\n",
       "      <th>visit_id</th>\n",
       "      <th>process_step</th>\n",
       "      <th>date_time</th>\n",
       "      <th>first_time</th>\n",
       "    </tr>\n",
       "  </thead>\n",
       "  <tbody>\n",
       "    <tr>\n",
       "      <th>302415</th>\n",
       "      <td>1028</td>\n",
       "      <td>12.0</td>\n",
       "      <td>145.0</td>\n",
       "      <td>36.0</td>\n",
       "      <td>M</td>\n",
       "      <td>3.0</td>\n",
       "      <td>103520.22</td>\n",
       "      <td>1.0</td>\n",
       "      <td>4.0</td>\n",
       "      <td>Control</td>\n",
       "      <td>42237450_62128060588</td>\n",
       "      <td>557292053_87239438319_391157</td>\n",
       "      <td>start</td>\n",
       "      <td>2017-04-08 18:51:28</td>\n",
       "      <td>NaN</td>\n",
       "    </tr>\n",
       "    <tr>\n",
       "      <th>302414</th>\n",
       "      <td>1028</td>\n",
       "      <td>12.0</td>\n",
       "      <td>145.0</td>\n",
       "      <td>36.0</td>\n",
       "      <td>M</td>\n",
       "      <td>3.0</td>\n",
       "      <td>103520.22</td>\n",
       "      <td>1.0</td>\n",
       "      <td>4.0</td>\n",
       "      <td>Control</td>\n",
       "      <td>42237450_62128060588</td>\n",
       "      <td>557292053_87239438319_391157</td>\n",
       "      <td>step_1</td>\n",
       "      <td>2017-04-08 18:52:17</td>\n",
       "      <td>2017-04-08 18:51:28</td>\n",
       "    </tr>\n",
       "    <tr>\n",
       "      <th>302413</th>\n",
       "      <td>1028</td>\n",
       "      <td>12.0</td>\n",
       "      <td>145.0</td>\n",
       "      <td>36.0</td>\n",
       "      <td>M</td>\n",
       "      <td>3.0</td>\n",
       "      <td>103520.22</td>\n",
       "      <td>1.0</td>\n",
       "      <td>4.0</td>\n",
       "      <td>Control</td>\n",
       "      <td>42237450_62128060588</td>\n",
       "      <td>557292053_87239438319_391157</td>\n",
       "      <td>step_1</td>\n",
       "      <td>2017-04-08 18:53:20</td>\n",
       "      <td>2017-04-08 18:52:17</td>\n",
       "    </tr>\n",
       "    <tr>\n",
       "      <th>302412</th>\n",
       "      <td>1028</td>\n",
       "      <td>12.0</td>\n",
       "      <td>145.0</td>\n",
       "      <td>36.0</td>\n",
       "      <td>M</td>\n",
       "      <td>3.0</td>\n",
       "      <td>103520.22</td>\n",
       "      <td>1.0</td>\n",
       "      <td>4.0</td>\n",
       "      <td>Control</td>\n",
       "      <td>42237450_62128060588</td>\n",
       "      <td>557292053_87239438319_391157</td>\n",
       "      <td>step_2</td>\n",
       "      <td>2017-04-08 18:53:29</td>\n",
       "      <td>2017-04-08 18:53:20</td>\n",
       "    </tr>\n",
       "    <tr>\n",
       "      <th>302411</th>\n",
       "      <td>1028</td>\n",
       "      <td>12.0</td>\n",
       "      <td>145.0</td>\n",
       "      <td>36.0</td>\n",
       "      <td>M</td>\n",
       "      <td>3.0</td>\n",
       "      <td>103520.22</td>\n",
       "      <td>1.0</td>\n",
       "      <td>4.0</td>\n",
       "      <td>Control</td>\n",
       "      <td>42237450_62128060588</td>\n",
       "      <td>557292053_87239438319_391157</td>\n",
       "      <td>step_3</td>\n",
       "      <td>2017-04-08 18:58:04</td>\n",
       "      <td>2017-04-08 18:53:29</td>\n",
       "    </tr>\n",
       "    <tr>\n",
       "      <th>302410</th>\n",
       "      <td>1028</td>\n",
       "      <td>12.0</td>\n",
       "      <td>145.0</td>\n",
       "      <td>36.0</td>\n",
       "      <td>M</td>\n",
       "      <td>3.0</td>\n",
       "      <td>103520.22</td>\n",
       "      <td>1.0</td>\n",
       "      <td>4.0</td>\n",
       "      <td>Control</td>\n",
       "      <td>42237450_62128060588</td>\n",
       "      <td>557292053_87239438319_391157</td>\n",
       "      <td>step_1</td>\n",
       "      <td>2017-04-08 18:59:55</td>\n",
       "      <td>2017-04-08 18:58:04</td>\n",
       "    </tr>\n",
       "    <tr>\n",
       "      <th>302409</th>\n",
       "      <td>1028</td>\n",
       "      <td>12.0</td>\n",
       "      <td>145.0</td>\n",
       "      <td>36.0</td>\n",
       "      <td>M</td>\n",
       "      <td>3.0</td>\n",
       "      <td>103520.22</td>\n",
       "      <td>1.0</td>\n",
       "      <td>4.0</td>\n",
       "      <td>Control</td>\n",
       "      <td>42237450_62128060588</td>\n",
       "      <td>557292053_87239438319_391157</td>\n",
       "      <td>step_1</td>\n",
       "      <td>2017-04-08 19:00:15</td>\n",
       "      <td>2017-04-08 18:59:55</td>\n",
       "    </tr>\n",
       "    <tr>\n",
       "      <th>302408</th>\n",
       "      <td>1028</td>\n",
       "      <td>12.0</td>\n",
       "      <td>145.0</td>\n",
       "      <td>36.0</td>\n",
       "      <td>M</td>\n",
       "      <td>3.0</td>\n",
       "      <td>103520.22</td>\n",
       "      <td>1.0</td>\n",
       "      <td>4.0</td>\n",
       "      <td>Control</td>\n",
       "      <td>42237450_62128060588</td>\n",
       "      <td>557292053_87239438319_391157</td>\n",
       "      <td>step_2</td>\n",
       "      <td>2017-04-08 19:00:17</td>\n",
       "      <td>2017-04-08 19:00:15</td>\n",
       "    </tr>\n",
       "    <tr>\n",
       "      <th>302407</th>\n",
       "      <td>1028</td>\n",
       "      <td>12.0</td>\n",
       "      <td>145.0</td>\n",
       "      <td>36.0</td>\n",
       "      <td>M</td>\n",
       "      <td>3.0</td>\n",
       "      <td>103520.22</td>\n",
       "      <td>1.0</td>\n",
       "      <td>4.0</td>\n",
       "      <td>Control</td>\n",
       "      <td>42237450_62128060588</td>\n",
       "      <td>557292053_87239438319_391157</td>\n",
       "      <td>step_1</td>\n",
       "      <td>2017-04-08 19:00:26</td>\n",
       "      <td>2017-04-08 19:00:17</td>\n",
       "    </tr>\n",
       "    <tr>\n",
       "      <th>132419</th>\n",
       "      <td>1104</td>\n",
       "      <td>5.0</td>\n",
       "      <td>66.0</td>\n",
       "      <td>48.0</td>\n",
       "      <td>U</td>\n",
       "      <td>3.0</td>\n",
       "      <td>154643.94</td>\n",
       "      <td>6.0</td>\n",
       "      <td>9.0</td>\n",
       "      <td>Control</td>\n",
       "      <td>194240915_18158000533</td>\n",
       "      <td>543158812_46395476577_767725</td>\n",
       "      <td>start</td>\n",
       "      <td>2017-06-12 07:49:18</td>\n",
       "      <td>NaN</td>\n",
       "    </tr>\n",
       "  </tbody>\n",
       "</table>\n",
       "</div>"
      ],
      "text/plain": [
       "        client_id  clnt_tenure_yr  clnt_tenure_mnth  clnt_age gendr  \\\n",
       "302415       1028            12.0             145.0      36.0     M   \n",
       "302414       1028            12.0             145.0      36.0     M   \n",
       "302413       1028            12.0             145.0      36.0     M   \n",
       "302412       1028            12.0             145.0      36.0     M   \n",
       "302411       1028            12.0             145.0      36.0     M   \n",
       "302410       1028            12.0             145.0      36.0     M   \n",
       "302409       1028            12.0             145.0      36.0     M   \n",
       "302408       1028            12.0             145.0      36.0     M   \n",
       "302407       1028            12.0             145.0      36.0     M   \n",
       "132419       1104             5.0              66.0      48.0     U   \n",
       "\n",
       "        num_accts        bal  calls_6_mnth  logons_6_mnth Variation  \\\n",
       "302415        3.0  103520.22           1.0            4.0   Control   \n",
       "302414        3.0  103520.22           1.0            4.0   Control   \n",
       "302413        3.0  103520.22           1.0            4.0   Control   \n",
       "302412        3.0  103520.22           1.0            4.0   Control   \n",
       "302411        3.0  103520.22           1.0            4.0   Control   \n",
       "302410        3.0  103520.22           1.0            4.0   Control   \n",
       "302409        3.0  103520.22           1.0            4.0   Control   \n",
       "302408        3.0  103520.22           1.0            4.0   Control   \n",
       "302407        3.0  103520.22           1.0            4.0   Control   \n",
       "132419        3.0  154643.94           6.0            9.0   Control   \n",
       "\n",
       "                   visitor_id                      visit_id process_step  \\\n",
       "302415   42237450_62128060588  557292053_87239438319_391157        start   \n",
       "302414   42237450_62128060588  557292053_87239438319_391157       step_1   \n",
       "302413   42237450_62128060588  557292053_87239438319_391157       step_1   \n",
       "302412   42237450_62128060588  557292053_87239438319_391157       step_2   \n",
       "302411   42237450_62128060588  557292053_87239438319_391157       step_3   \n",
       "302410   42237450_62128060588  557292053_87239438319_391157       step_1   \n",
       "302409   42237450_62128060588  557292053_87239438319_391157       step_1   \n",
       "302408   42237450_62128060588  557292053_87239438319_391157       step_2   \n",
       "302407   42237450_62128060588  557292053_87239438319_391157       step_1   \n",
       "132419  194240915_18158000533  543158812_46395476577_767725        start   \n",
       "\n",
       "                  date_time           first_time  \n",
       "302415  2017-04-08 18:51:28                  NaN  \n",
       "302414  2017-04-08 18:52:17  2017-04-08 18:51:28  \n",
       "302413  2017-04-08 18:53:20  2017-04-08 18:52:17  \n",
       "302412  2017-04-08 18:53:29  2017-04-08 18:53:20  \n",
       "302411  2017-04-08 18:58:04  2017-04-08 18:53:29  \n",
       "302410  2017-04-08 18:59:55  2017-04-08 18:58:04  \n",
       "302409  2017-04-08 19:00:15  2017-04-08 18:59:55  \n",
       "302408  2017-04-08 19:00:17  2017-04-08 19:00:15  \n",
       "302407  2017-04-08 19:00:26  2017-04-08 19:00:17  \n",
       "132419  2017-06-12 07:49:18                  NaN  "
      ]
     },
     "execution_count": 45,
     "metadata": {},
     "output_type": "execute_result"
    }
   ],
   "source": [
    "mask = df_ab['Variation']=='Test'\n",
    "df_test = df_ab.loc[mask]\n",
    "df_control = df_ab.loc[~mask]\n",
    "df_control.head(10)"
   ]
  },
  {
   "cell_type": "code",
   "execution_count": 28,
   "id": "11dca07e",
   "metadata": {},
   "outputs": [
    {
     "data": {
      "text/plain": [
       "client_id             int64\n",
       "clnt_tenure_yr      float64\n",
       "clnt_tenure_mnth    float64\n",
       "clnt_age            float64\n",
       "gendr                object\n",
       "num_accts           float64\n",
       "bal                 float64\n",
       "calls_6_mnth        float64\n",
       "logons_6_mnth       float64\n",
       "Variation            object\n",
       "visitor_id           object\n",
       "visit_id             object\n",
       "process_step         object\n",
       "date_time            object\n",
       "first_time           object\n",
       "dtype: object"
      ]
     },
     "execution_count": 28,
     "metadata": {},
     "output_type": "execute_result"
    }
   ],
   "source": [
    "df_ab.dtypes"
   ]
  },
  {
   "cell_type": "code",
   "execution_count": 46,
   "id": "b69d71e9",
   "metadata": {},
   "outputs": [
    {
     "name": "stdout",
     "output_type": "stream",
     "text": [
      "Test Group Completion Rate: 69.29%\n"
     ]
    }
   ],
   "source": [
    "# Completion rate test group \n",
    "confirm_step_count_tst = df_test[df_test['process_step'] == 'confirm']['client_id'].nunique()\n",
    "total_users_tst = df_test['client_id'].nunique()\n",
    "completion_rate_tst = confirm_step_count_tst / total_users_tst\n",
    "print(f\"Test Group Completion Rate: {completion_rate_tst:.2%}\")"
   ]
  },
  {
   "cell_type": "code",
   "execution_count": 47,
   "id": "7bbc9a4c",
   "metadata": {},
   "outputs": [
    {
     "name": "stdout",
     "output_type": "stream",
     "text": [
      "Control Group Completion Rate: 65.58%\n"
     ]
    }
   ],
   "source": [
    "# Completion rate fo the control group \n",
    "confirm_step_count_ctl = df_control[df_control['process_step'] == 'confirm']['client_id'].nunique()\n",
    "total_users_ctl = df_control['client_id'].nunique()\n",
    "completion_rate_ctl = confirm_step_count_ctl / total_users_ctl\n",
    "print(f\"Control Group Completion Rate: {completion_rate_ctl:.2%}\")\n"
   ]
  },
  {
   "cell_type": "code",
   "execution_count": 94,
   "id": "81f975a0",
   "metadata": {},
   "outputs": [
    {
     "data": {
      "text/html": [
       "<div>\n",
       "<style scoped>\n",
       "    .dataframe tbody tr th:only-of-type {\n",
       "        vertical-align: middle;\n",
       "    }\n",
       "\n",
       "    .dataframe tbody tr th {\n",
       "        vertical-align: top;\n",
       "    }\n",
       "\n",
       "    .dataframe thead th {\n",
       "        text-align: right;\n",
       "    }\n",
       "</style>\n",
       "<table border=\"1\" class=\"dataframe\">\n",
       "  <thead>\n",
       "    <tr style=\"text-align: right;\">\n",
       "      <th></th>\n",
       "      <th>Control</th>\n",
       "      <th>Test</th>\n",
       "    </tr>\n",
       "  </thead>\n",
       "  <tbody>\n",
       "    <tr>\n",
       "      <th>Not Completed</th>\n",
       "      <td>8098</td>\n",
       "      <td>8279</td>\n",
       "    </tr>\n",
       "    <tr>\n",
       "      <th>Completed</th>\n",
       "      <td>15428</td>\n",
       "      <td>18682</td>\n",
       "    </tr>\n",
       "  </tbody>\n",
       "</table>\n",
       "</div>"
      ],
      "text/plain": [
       "               Control   Test\n",
       "Not Completed     8098   8279\n",
       "Completed        15428  18682"
      ]
     },
     "execution_count": 94,
     "metadata": {},
     "output_type": "execute_result"
    }
   ],
   "source": [
    "crosstable = pd.DataFrame({ \"Control\": [total_users_ctl-confirm_step_count_ctl, confirm_step_count_ctl], \n",
    "              \"Test\": [total_users_tst-confirm_step_count_tst, confirm_step_count_tst]}, index= ['Not Completed','Completed'])\n",
    "\n",
    "crosstable"
   ]
  },
  {
   "cell_type": "code",
   "execution_count": 50,
   "id": "657dfe5f",
   "metadata": {},
   "outputs": [],
   "source": [
    "df_ab['date_time'] = pd.to_datetime(df_ab['date_time'], errors='coerce')\n",
    "df_ab['first_time']= df_ab.groupby('client_id')['date_time'].shift(1)"
   ]
  },
  {
   "cell_type": "code",
   "execution_count": 68,
   "id": "741870d7",
   "metadata": {},
   "outputs": [
    {
     "data": {
      "text/plain": [
       "26961"
      ]
     },
     "execution_count": 68,
     "metadata": {},
     "output_type": "execute_result"
    }
   ],
   "source": [
    "total_users_tst"
   ]
  },
  {
   "cell_type": "code",
   "execution_count": 53,
   "id": "2c1a233f",
   "metadata": {},
   "outputs": [
    {
     "data": {
      "text/plain": [
       "client_id                    int64\n",
       "clnt_tenure_yr             float64\n",
       "clnt_tenure_mnth           float64\n",
       "clnt_age                   float64\n",
       "gendr                       object\n",
       "num_accts                  float64\n",
       "bal                        float64\n",
       "calls_6_mnth               float64\n",
       "logons_6_mnth              float64\n",
       "Variation                   object\n",
       "visitor_id                  object\n",
       "visit_id                    object\n",
       "process_step                object\n",
       "date_time           datetime64[ns]\n",
       "first_time                  object\n",
       "dtype: object"
      ]
     },
     "execution_count": 53,
     "metadata": {},
     "output_type": "execute_result"
    }
   ],
   "source": [
    "df_ab.dtypes"
   ]
  },
  {
   "cell_type": "code",
   "execution_count": 96,
   "id": "86e2b65a",
   "metadata": {},
   "outputs": [
    {
     "name": "stdout",
     "output_type": "stream",
     "text": [
      "Chi-Square Statistic: 78.91156551250265\n",
      "P-Value: 6.495338472114987e-19\n",
      "Reject the null hypothesis: There is a significant difference in completion rates between the test and control groups.\n"
     ]
    }
   ],
   "source": [
    "import scipy.stats as stats\n",
    "\n",
    "\n",
    "data = [[confirm_step_count_tst, total_users_tst  * (1-completion_rate_tst)],\n",
    "        [confirm_step_count_ctl, total_users_ctl * (1-completion_rate_ctl)]]\n",
    "\n",
    "# Perform Chi-Square test\n",
    "chi2, p_value, _, _ = stats.chi2_contingency(data)\n",
    "\n",
    "# Output the results\n",
    "print(f\"Chi-Square Statistic: {chi2}\")\n",
    "print(f\"P-Value: {p_value}\")\n",
    "\n",
    "# Check the significance level (e.g., 0.05)\n",
    "alpha = 0.05\n",
    "\n",
    "# Make a decision based on the p-value\n",
    "if p_value < alpha:\n",
    "    print(\"Reject the null hypothesis: There is a significant difference in completion rates between the test and control groups.\")\n",
    "else:\n",
    "    print(\"Fail to reject the null hypothesis: There is no significant difference in completion rates between the test and control groups.\")\n"
   ]
  },
  {
   "cell_type": "markdown",
   "id": "dbf9dc1c",
   "metadata": {},
   "source": [
    "Chi-Square Statistic: 78.91156551250255\n",
    "P-Value: 6.495338472115321e-19\n",
    "Reject the null hypothesis: There is a significant difference in completion rates between the test and control groups."
   ]
  },
  {
   "cell_type": "code",
   "execution_count": 72,
   "id": "0a5e5a26",
   "metadata": {},
   "outputs": [
    {
     "data": {
      "text/plain": [
       "[[18682, 18682.0], [15428, 15427.999999999998]]"
      ]
     },
     "execution_count": 72,
     "metadata": {},
     "output_type": "execute_result"
    }
   ],
   "source": [
    "data"
   ]
  },
  {
   "cell_type": "code",
   "execution_count": 31,
   "id": "f935d853",
   "metadata": {},
   "outputs": [
    {
     "name": "stdout",
     "output_type": "stream",
     "text": [
      "Average Time Spent on Each Step:\n",
      "0 days 00:00:23.738792692\n"
     ]
    }
   ],
   "source": [
    "# Time Spent on Each Step\n",
    "df_web['date_time'] = pd.to_datetime(df_web['date_time'])\n",
    "step_duration = df_web.groupby('process_step')['date_time'].diff().mean()\n",
    "print(\"Average Time Spent on Each Step:\")\n",
    "print(step_duration)"
   ]
  },
  {
   "cell_type": "code",
   "execution_count": 60,
   "id": "930b8ae9",
   "metadata": {},
   "outputs": [
    {
     "name": "stdout",
     "output_type": "stream",
     "text": [
      "Control Group Error Rate: 345.46%\n"
     ]
    }
   ],
   "source": [
    "# Error rates in the control group \n",
    "error_count_ctl = df_control[df_control.duplicated(subset=['visit_id', 'client_id'], keep='last')]['visit_id'].count()\n",
    "total_visits_ctl = df_control['visit_id'].nunique()\n",
    "error_rate_ctl = error_count_ctl / total_visits_ctl\n",
    "print(f\"Control Group Error Rate: {error_rate_ctl:.2%}\")"
   ]
  },
  {
   "cell_type": "code",
   "execution_count": 61,
   "id": "adc2a9ee",
   "metadata": {},
   "outputs": [
    {
     "name": "stdout",
     "output_type": "stream",
     "text": [
      "Test Group Error Rate: 378.74%\n"
     ]
    }
   ],
   "source": [
    "# error rates in the test group \n",
    "error_count_tst = df_test[df_test.duplicated(subset=['visit_id', 'client_id'], keep='last')]['visit_id'].count()\n",
    "total_visits_tst = df_test['visit_id'].nunique()\n",
    "error_rate_tst = error_count_tst / total_visits_tst\n",
    "print(f\"Test Group Error Rate: {error_rate_tst:.2%}\")"
   ]
  }
 ],
 "metadata": {
  "kernelspec": {
   "display_name": "Python 3 (ipykernel)",
   "language": "python",
   "name": "python3"
  },
  "language_info": {
   "codemirror_mode": {
    "name": "ipython",
    "version": 3
   },
   "file_extension": ".py",
   "mimetype": "text/x-python",
   "name": "python",
   "nbconvert_exporter": "python",
   "pygments_lexer": "ipython3",
   "version": "3.12.1"
  }
 },
 "nbformat": 4,
 "nbformat_minor": 5
}
